{
 "cells": [
  {
   "cell_type": "markdown",
   "id": "956c516f",
   "metadata": {},
   "source": [
    "# House Price Prediction"
   ]
  },
  {
   "cell_type": "code",
   "execution_count": 1,
   "id": "2eb9e1a8",
   "metadata": {},
   "outputs": [],
   "source": [
    "#Importing necessary libraries\n",
    "import pandas as pd\n",
    "import matplotlib.pyplot as plt\n",
    "import seaborn as sns\n",
    "import numpy as np\n",
    "from statsmodels.stats.outliers_influence import variance_inflation_factor\n",
    "from sklearn.model_selection import train_test_split\n",
    "from sklearn.linear_model import LinearRegression, RidgeCV, LassoCV\n",
    "from sklearn.ensemble import RandomForestRegressor\n",
    "from sklearn.datasets import make_regression\n",
    "from sklearn.model_selection import KFold, cross_val_score, train_test_split\n",
    "from sklearn.metrics import mean_squared_error\n",
    "from sklearn.decomposition import PCA\n",
    "from sklearn.cross_decomposition import PLSRegression\n",
    "from sklearn.preprocessing import StandardScaler\n",
    "from sklearn.metrics import mean_squared_error\n",
    "from sklearn.metrics import r2_score"
   ]
  },
  {
   "cell_type": "code",
   "execution_count": 2,
   "id": "d05de352",
   "metadata": {},
   "outputs": [],
   "source": [
    "df = pd.read_excel('House Dataset.xlsx')"
   ]
  },
  {
   "cell_type": "code",
   "execution_count": 3,
   "id": "7809a020",
   "metadata": {},
   "outputs": [
    {
     "data": {
      "text/plain": [
       "(414, 9)"
      ]
     },
     "execution_count": 3,
     "metadata": {},
     "output_type": "execute_result"
    }
   ],
   "source": [
    "df.shape #cecking for the size of the dataset"
   ]
  },
  {
   "cell_type": "code",
   "execution_count": 4,
   "id": "aeb013d5",
   "metadata": {},
   "outputs": [
    {
     "data": {
      "text/plain": [
       "Transaction date                            0\n",
       "House Age                                   0\n",
       "Distance from nearest Metro station (km)    0\n",
       "Number of convenience stores                0\n",
       "latitude                                    0\n",
       "longitude                                   0\n",
       "Number of bedrooms                          0\n",
       "House size (sqft)                           0\n",
       "House price of unit area                    0\n",
       "dtype: int64"
      ]
     },
     "execution_count": 4,
     "metadata": {},
     "output_type": "execute_result"
    }
   ],
   "source": [
    "df.isna().sum() #checking for missing values"
   ]
  },
  {
   "cell_type": "code",
   "execution_count": 5,
   "id": "95e95293",
   "metadata": {},
   "outputs": [
    {
     "data": {
      "text/plain": [
       "0"
      ]
     },
     "execution_count": 5,
     "metadata": {},
     "output_type": "execute_result"
    }
   ],
   "source": [
    "df.duplicated().sum() #checking for duplicated values"
   ]
  },
  {
   "cell_type": "code",
   "execution_count": 6,
   "id": "42fc6fb1",
   "metadata": {},
   "outputs": [
    {
     "name": "stdout",
     "output_type": "stream",
     "text": [
      "<class 'pandas.core.frame.DataFrame'>\n",
      "RangeIndex: 414 entries, 0 to 413\n",
      "Data columns (total 9 columns):\n",
      " #   Column                                    Non-Null Count  Dtype  \n",
      "---  ------                                    --------------  -----  \n",
      " 0   Transaction date                          414 non-null    float64\n",
      " 1   House Age                                 414 non-null    float64\n",
      " 2   Distance from nearest Metro station (km)  414 non-null    float64\n",
      " 3   Number of convenience stores              414 non-null    int64  \n",
      " 4   latitude                                  414 non-null    float64\n",
      " 5   longitude                                 414 non-null    float64\n",
      " 6   Number of bedrooms                        414 non-null    int64  \n",
      " 7   House size (sqft)                         414 non-null    int64  \n",
      " 8   House price of unit area                  414 non-null    float64\n",
      "dtypes: float64(6), int64(3)\n",
      "memory usage: 29.2 KB\n"
     ]
    }
   ],
   "source": [
    "df.info()"
   ]
  },
  {
   "cell_type": "code",
   "execution_count": 7,
   "id": "77491650",
   "metadata": {},
   "outputs": [
    {
     "data": {
      "text/html": [
       "<div>\n",
       "<style scoped>\n",
       "    .dataframe tbody tr th:only-of-type {\n",
       "        vertical-align: middle;\n",
       "    }\n",
       "\n",
       "    .dataframe tbody tr th {\n",
       "        vertical-align: top;\n",
       "    }\n",
       "\n",
       "    .dataframe thead th {\n",
       "        text-align: right;\n",
       "    }\n",
       "</style>\n",
       "<table border=\"1\" class=\"dataframe\">\n",
       "  <thead>\n",
       "    <tr style=\"text-align: right;\">\n",
       "      <th></th>\n",
       "      <th>Transaction date</th>\n",
       "      <th>House Age</th>\n",
       "      <th>Distance from nearest Metro station (km)</th>\n",
       "      <th>Number of convenience stores</th>\n",
       "      <th>latitude</th>\n",
       "      <th>longitude</th>\n",
       "      <th>Number of bedrooms</th>\n",
       "      <th>House size (sqft)</th>\n",
       "      <th>House price of unit area</th>\n",
       "    </tr>\n",
       "  </thead>\n",
       "  <tbody>\n",
       "    <tr>\n",
       "      <th>count</th>\n",
       "      <td>414.000000</td>\n",
       "      <td>414.000000</td>\n",
       "      <td>414.000000</td>\n",
       "      <td>414.000000</td>\n",
       "      <td>414.000000</td>\n",
       "      <td>414.000000</td>\n",
       "      <td>414.000000</td>\n",
       "      <td>414.000000</td>\n",
       "      <td>414.000000</td>\n",
       "    </tr>\n",
       "    <tr>\n",
       "      <th>mean</th>\n",
       "      <td>2013.148953</td>\n",
       "      <td>17.712560</td>\n",
       "      <td>1083.885689</td>\n",
       "      <td>4.094203</td>\n",
       "      <td>24.969030</td>\n",
       "      <td>121.533361</td>\n",
       "      <td>1.987923</td>\n",
       "      <td>931.475845</td>\n",
       "      <td>37.980193</td>\n",
       "    </tr>\n",
       "    <tr>\n",
       "      <th>std</th>\n",
       "      <td>0.281995</td>\n",
       "      <td>11.392485</td>\n",
       "      <td>1262.109595</td>\n",
       "      <td>2.945562</td>\n",
       "      <td>0.012410</td>\n",
       "      <td>0.015347</td>\n",
       "      <td>0.818875</td>\n",
       "      <td>348.910269</td>\n",
       "      <td>13.606488</td>\n",
       "    </tr>\n",
       "    <tr>\n",
       "      <th>min</th>\n",
       "      <td>2012.666667</td>\n",
       "      <td>0.000000</td>\n",
       "      <td>23.382840</td>\n",
       "      <td>0.000000</td>\n",
       "      <td>24.932070</td>\n",
       "      <td>121.473530</td>\n",
       "      <td>1.000000</td>\n",
       "      <td>402.000000</td>\n",
       "      <td>7.600000</td>\n",
       "    </tr>\n",
       "    <tr>\n",
       "      <th>25%</th>\n",
       "      <td>2012.916667</td>\n",
       "      <td>9.025000</td>\n",
       "      <td>289.324800</td>\n",
       "      <td>1.000000</td>\n",
       "      <td>24.963000</td>\n",
       "      <td>121.528085</td>\n",
       "      <td>1.000000</td>\n",
       "      <td>548.000000</td>\n",
       "      <td>27.700000</td>\n",
       "    </tr>\n",
       "    <tr>\n",
       "      <th>50%</th>\n",
       "      <td>2013.166667</td>\n",
       "      <td>16.100000</td>\n",
       "      <td>492.231300</td>\n",
       "      <td>4.000000</td>\n",
       "      <td>24.971100</td>\n",
       "      <td>121.538630</td>\n",
       "      <td>2.000000</td>\n",
       "      <td>975.000000</td>\n",
       "      <td>38.450000</td>\n",
       "    </tr>\n",
       "    <tr>\n",
       "      <th>75%</th>\n",
       "      <td>2013.416667</td>\n",
       "      <td>28.150000</td>\n",
       "      <td>1454.279000</td>\n",
       "      <td>6.000000</td>\n",
       "      <td>24.977455</td>\n",
       "      <td>121.543305</td>\n",
       "      <td>3.000000</td>\n",
       "      <td>1234.750000</td>\n",
       "      <td>46.600000</td>\n",
       "    </tr>\n",
       "    <tr>\n",
       "      <th>max</th>\n",
       "      <td>2013.583333</td>\n",
       "      <td>43.800000</td>\n",
       "      <td>6488.021000</td>\n",
       "      <td>10.000000</td>\n",
       "      <td>25.014590</td>\n",
       "      <td>121.566270</td>\n",
       "      <td>3.000000</td>\n",
       "      <td>1500.000000</td>\n",
       "      <td>117.500000</td>\n",
       "    </tr>\n",
       "  </tbody>\n",
       "</table>\n",
       "</div>"
      ],
      "text/plain": [
       "       Transaction date   House Age  Distance from nearest Metro station (km)  \\\n",
       "count        414.000000  414.000000                                414.000000   \n",
       "mean        2013.148953   17.712560                               1083.885689   \n",
       "std            0.281995   11.392485                               1262.109595   \n",
       "min         2012.666667    0.000000                                 23.382840   \n",
       "25%         2012.916667    9.025000                                289.324800   \n",
       "50%         2013.166667   16.100000                                492.231300   \n",
       "75%         2013.416667   28.150000                               1454.279000   \n",
       "max         2013.583333   43.800000                               6488.021000   \n",
       "\n",
       "       Number of convenience stores    latitude   longitude  \\\n",
       "count                    414.000000  414.000000  414.000000   \n",
       "mean                       4.094203   24.969030  121.533361   \n",
       "std                        2.945562    0.012410    0.015347   \n",
       "min                        0.000000   24.932070  121.473530   \n",
       "25%                        1.000000   24.963000  121.528085   \n",
       "50%                        4.000000   24.971100  121.538630   \n",
       "75%                        6.000000   24.977455  121.543305   \n",
       "max                       10.000000   25.014590  121.566270   \n",
       "\n",
       "       Number of bedrooms  House size (sqft)  House price of unit area  \n",
       "count          414.000000         414.000000                414.000000  \n",
       "mean             1.987923         931.475845                 37.980193  \n",
       "std              0.818875         348.910269                 13.606488  \n",
       "min              1.000000         402.000000                  7.600000  \n",
       "25%              1.000000         548.000000                 27.700000  \n",
       "50%              2.000000         975.000000                 38.450000  \n",
       "75%              3.000000        1234.750000                 46.600000  \n",
       "max              3.000000        1500.000000                117.500000  "
      ]
     },
     "execution_count": 7,
     "metadata": {},
     "output_type": "execute_result"
    }
   ],
   "source": [
    "df.describe()"
   ]
  },
  {
   "cell_type": "markdown",
   "id": "2df9e144",
   "metadata": {},
   "source": [
    "##### There are no missing data or duplicating data. There are no irregularities too except that the Transaction date is not in a datetime format but that will not be faced as I don't need the column. After observing the columns, it occurs that to get the total price, the price per unit area has to be multiplied by the House size. "
   ]
  },
  {
   "cell_type": "code",
   "execution_count": 8,
   "id": "a943557c",
   "metadata": {},
   "outputs": [],
   "source": [
    "df['Price']=df['House size (sqft)'] * df['House price of unit area']"
   ]
  },
  {
   "cell_type": "code",
   "execution_count": 9,
   "id": "3a93db1a",
   "metadata": {},
   "outputs": [],
   "source": [
    "def plot_scatter(x_var,xlabel):\n",
    "    \"\"\"\n",
    "    This funtion plots the relationship between a variable and the price of the house.\n",
    "    x_var: series object\n",
    "    The variable plotted against price\n",
    "    \n",
    "    x_label: string\n",
    "    Label of the x axis\n",
    "    \n",
    "    return\n",
    "    -------\n",
    "    A scatter plot showing the relationship between two variables.\n",
    "    \"\"\"\n",
    "    plt.scatter(x=x_var,y=df['Price'])\n",
    "    plt.xlabel(xlabel)\n",
    "    plt.ylabel(\"House Price\")\n",
    "    plt.title(\"Relationship between \"+ '\"'+ xlabel + '\"'+ \" and Price of the House\")\n",
    "    sns.regplot(x=x_var,y=df['Price'],ci=None)\n",
    "    plt.plot()"
   ]
  },
  {
   "cell_type": "markdown",
   "id": "45c4ef12",
   "metadata": {},
   "source": [
    "There seem to be no relationship between transaction date and the price of the house. "
   ]
  },
  {
   "cell_type": "code",
   "execution_count": 10,
   "id": "f391b2d2",
   "metadata": {},
   "outputs": [
    {
     "data": {
      "image/png": "[encoded data removed]",
      "text/plain": [
       "<Figure size 432x288 with 1 Axes>"
      ]
     },
     "metadata": {
      "needs_background": "light"
     },
     "output_type": "display_data"
    }
   ],
   "source": [
    "plot_scatter(df['Transaction date'],'Transaction Date')"
   ]
  },
  {
   "cell_type": "markdown",
   "id": "a858339d",
   "metadata": {},
   "source": [
    "There seem to be a negative correlation between the distance from the nearest metro station and price. Increased house price has lesser distance to the metro station. This is only logical"
   ]
  },
  {
   "cell_type": "code",
   "execution_count": 11,
   "id": "32cb537f",
   "metadata": {},
   "outputs": [
    {
     "data": {
      "image/png": "[encoded data removed]",
      "text/plain": [
       "<Figure size 432x288 with 1 Axes>"
      ]
     },
     "metadata": {
      "needs_background": "light"
     },
     "output_type": "display_data"
    }
   ],
   "source": [
    "plot_scatter(df['Distance from nearest Metro station (km)'],'Distance from nearest Metro station')\n"
   ]
  },
  {
   "cell_type": "markdown",
   "id": "b4f2bcfb",
   "metadata": {},
   "source": [
    "There seem to be a slight positive correlation between number of convenience store and price as there seem to be more points and taller points as the number of convenience stores increases. "
   ]
  },
  {
   "cell_type": "code",
   "execution_count": 12,
   "id": "a5ed01ec",
   "metadata": {},
   "outputs": [
    {
     "data": {
      "image/png": "[encoded data removed]",
      "text/plain": [
       "<Figure size 432x288 with 1 Axes>"
      ]
     },
     "metadata": {
      "needs_background": "light"
     },
     "output_type": "display_data"
    }
   ],
   "source": [
    "plot_scatter(df['Number of convenience stores'],'Number of convenience stores')"
   ]
  },
  {
   "cell_type": "markdown",
   "id": "6b3ea367",
   "metadata": {},
   "source": [
    "There is a positive correlation between number of bedrooms and price of the house. Theere seem to be an increase in the number of points with increase in number of bedrooms. "
   ]
  },
  {
   "cell_type": "code",
   "execution_count": 13,
   "id": "19872cd3",
   "metadata": {},
   "outputs": [
    {
     "data": {
      "image/png": "[encoded data removed]",
      "text/plain": [
       "<Figure size 432x288 with 1 Axes>"
      ]
     },
     "metadata": {
      "needs_background": "light"
     },
     "output_type": "display_data"
    }
   ],
   "source": [
    "plot_scatter(df['Number of bedrooms'],'Number of bedrooms')"
   ]
  },
  {
   "cell_type": "markdown",
   "id": "e1cf1d29",
   "metadata": {},
   "source": [
    "There seem to be a negative correlation as the age of house increases, the price decreases. This is expected because new house tend to cost more. "
   ]
  },
  {
   "cell_type": "code",
   "execution_count": 14,
   "id": "9feb04be",
   "metadata": {},
   "outputs": [
    {
     "data": {
      "image/png": "[encoded data removed]",
      "text/plain": [
       "<Figure size 432x288 with 1 Axes>"
      ]
     },
     "metadata": {
      "needs_background": "light"
     },
     "output_type": "display_data"
    }
   ],
   "source": [
    "plot_scatter(df['House Age'],'House Age')"
   ]
  },
  {
   "cell_type": "markdown",
   "id": "865a13ce",
   "metadata": {},
   "source": [
    "The longitude and latitude shows a positive correlation with increase in price. "
   ]
  },
  {
   "cell_type": "code",
   "execution_count": 15,
   "id": "cece2dab",
   "metadata": {},
   "outputs": [
    {
     "data": {
      "image/png": "[encoded data removed]",
      "text/plain": [
       "<Figure size 432x288 with 1 Axes>"
      ]
     },
     "metadata": {
      "needs_background": "light"
     },
     "output_type": "display_data"
    }
   ],
   "source": [
    "plot_scatter(df['latitude'],'latitude')"
   ]
  },
  {
   "cell_type": "code",
   "execution_count": 16,
   "id": "f4591e00",
   "metadata": {},
   "outputs": [
    {
     "data": {
      "image/png": "[encoded data removed]",
      "text/plain": [
       "<Figure size 432x288 with 1 Axes>"
      ]
     },
     "metadata": {
      "needs_background": "light"
     },
     "output_type": "display_data"
    }
   ],
   "source": [
    "plot_scatter(df['longitude'],'longitude')"
   ]
  },
  {
   "cell_type": "markdown",
   "id": "6024d0c9",
   "metadata": {},
   "source": [
    "Finally, The house price also shows a positive coreerlation with the house size. This is logical as bigger houses generally cost higher. "
   ]
  },
  {
   "cell_type": "code",
   "execution_count": 17,
   "id": "560ab986",
   "metadata": {},
   "outputs": [
    {
     "data": {
      "image/png": "[encoded data removed]",
      "text/plain": [
       "<Figure size 432x288 with 1 Axes>"
      ]
     },
     "metadata": {
      "needs_background": "light"
     },
     "output_type": "display_data"
    }
   ],
   "source": [
    "plot_scatter(df['House size (sqft)'],'House size')"
   ]
  },
  {
   "cell_type": "markdown",
   "id": "ac75b057",
   "metadata": {},
   "source": [
    "Ofcourse, The House price of unit area is highly correlated with the price of the house"
   ]
  },
  {
   "cell_type": "code",
   "execution_count": 18,
   "id": "5aeb77a5",
   "metadata": {},
   "outputs": [
    {
     "data": {
      "image/png": "[encoded data removed]",
      "text/plain": [
       "<Figure size 432x288 with 1 Axes>"
      ]
     },
     "metadata": {
      "needs_background": "light"
     },
     "output_type": "display_data"
    }
   ],
   "source": [
    "plot_scatter(df['House price of unit area'],'House price per unit area')"
   ]
  },
  {
   "cell_type": "code",
   "execution_count": 19,
   "id": "7f234339",
   "metadata": {},
   "outputs": [
    {
     "data": {
      "text/html": [
       "<div>\n",
       "<style scoped>\n",
       "    .dataframe tbody tr th:only-of-type {\n",
       "        vertical-align: middle;\n",
       "    }\n",
       "\n",
       "    .dataframe tbody tr th {\n",
       "        vertical-align: top;\n",
       "    }\n",
       "\n",
       "    .dataframe thead th {\n",
       "        text-align: right;\n",
       "    }\n",
       "</style>\n",
       "<table border=\"1\" class=\"dataframe\">\n",
       "  <thead>\n",
       "    <tr style=\"text-align: right;\">\n",
       "      <th></th>\n",
       "      <th>Transaction date</th>\n",
       "      <th>House Age</th>\n",
       "      <th>Distance from nearest Metro station (km)</th>\n",
       "      <th>Number of convenience stores</th>\n",
       "      <th>latitude</th>\n",
       "      <th>longitude</th>\n",
       "      <th>Number of bedrooms</th>\n",
       "      <th>House size (sqft)</th>\n",
       "      <th>House price of unit area</th>\n",
       "      <th>Price</th>\n",
       "    </tr>\n",
       "  </thead>\n",
       "  <tbody>\n",
       "    <tr>\n",
       "      <th>Transaction date</th>\n",
       "      <td>1.000000</td>\n",
       "      <td>0.017542</td>\n",
       "      <td>0.060880</td>\n",
       "      <td>0.009544</td>\n",
       "      <td>0.035016</td>\n",
       "      <td>-0.041065</td>\n",
       "      <td>0.061985</td>\n",
       "      <td>0.068405</td>\n",
       "      <td>0.087529</td>\n",
       "      <td>0.119059</td>\n",
       "    </tr>\n",
       "    <tr>\n",
       "      <th>House Age</th>\n",
       "      <td>0.017542</td>\n",
       "      <td>1.000000</td>\n",
       "      <td>0.025622</td>\n",
       "      <td>0.049593</td>\n",
       "      <td>0.054420</td>\n",
       "      <td>-0.048520</td>\n",
       "      <td>-0.008756</td>\n",
       "      <td>-0.060361</td>\n",
       "      <td>-0.210567</td>\n",
       "      <td>-0.198741</td>\n",
       "    </tr>\n",
       "    <tr>\n",
       "      <th>Distance from nearest Metro station (km)</th>\n",
       "      <td>0.060880</td>\n",
       "      <td>0.025622</td>\n",
       "      <td>1.000000</td>\n",
       "      <td>-0.602519</td>\n",
       "      <td>-0.591067</td>\n",
       "      <td>-0.806317</td>\n",
       "      <td>-0.046856</td>\n",
       "      <td>0.001795</td>\n",
       "      <td>-0.673613</td>\n",
       "      <td>-0.441094</td>\n",
       "    </tr>\n",
       "    <tr>\n",
       "      <th>Number of convenience stores</th>\n",
       "      <td>0.009544</td>\n",
       "      <td>0.049593</td>\n",
       "      <td>-0.602519</td>\n",
       "      <td>1.000000</td>\n",
       "      <td>0.444143</td>\n",
       "      <td>0.449099</td>\n",
       "      <td>0.043638</td>\n",
       "      <td>0.033286</td>\n",
       "      <td>0.571005</td>\n",
       "      <td>0.381169</td>\n",
       "    </tr>\n",
       "    <tr>\n",
       "      <th>latitude</th>\n",
       "      <td>0.035016</td>\n",
       "      <td>0.054420</td>\n",
       "      <td>-0.591067</td>\n",
       "      <td>0.444143</td>\n",
       "      <td>1.000000</td>\n",
       "      <td>0.412924</td>\n",
       "      <td>0.043921</td>\n",
       "      <td>0.031696</td>\n",
       "      <td>0.546307</td>\n",
       "      <td>0.378440</td>\n",
       "    </tr>\n",
       "    <tr>\n",
       "      <th>longitude</th>\n",
       "      <td>-0.041065</td>\n",
       "      <td>-0.048520</td>\n",
       "      <td>-0.806317</td>\n",
       "      <td>0.449099</td>\n",
       "      <td>0.412924</td>\n",
       "      <td>1.000000</td>\n",
       "      <td>0.041680</td>\n",
       "      <td>0.009322</td>\n",
       "      <td>0.523287</td>\n",
       "      <td>0.346538</td>\n",
       "    </tr>\n",
       "    <tr>\n",
       "      <th>Number of bedrooms</th>\n",
       "      <td>0.061985</td>\n",
       "      <td>-0.008756</td>\n",
       "      <td>-0.046856</td>\n",
       "      <td>0.043638</td>\n",
       "      <td>0.043921</td>\n",
       "      <td>0.041680</td>\n",
       "      <td>1.000000</td>\n",
       "      <td>0.752276</td>\n",
       "      <td>0.050265</td>\n",
       "      <td>0.548679</td>\n",
       "    </tr>\n",
       "    <tr>\n",
       "      <th>House size (sqft)</th>\n",
       "      <td>0.068405</td>\n",
       "      <td>-0.060361</td>\n",
       "      <td>0.001795</td>\n",
       "      <td>0.033286</td>\n",
       "      <td>0.031696</td>\n",
       "      <td>0.009322</td>\n",
       "      <td>0.752276</td>\n",
       "      <td>1.000000</td>\n",
       "      <td>0.046489</td>\n",
       "      <td>0.702782</td>\n",
       "    </tr>\n",
       "    <tr>\n",
       "      <th>House price of unit area</th>\n",
       "      <td>0.087529</td>\n",
       "      <td>-0.210567</td>\n",
       "      <td>-0.673613</td>\n",
       "      <td>0.571005</td>\n",
       "      <td>0.546307</td>\n",
       "      <td>0.523287</td>\n",
       "      <td>0.050265</td>\n",
       "      <td>0.046489</td>\n",
       "      <td>1.000000</td>\n",
       "      <td>0.698585</td>\n",
       "    </tr>\n",
       "    <tr>\n",
       "      <th>Price</th>\n",
       "      <td>0.119059</td>\n",
       "      <td>-0.198741</td>\n",
       "      <td>-0.441094</td>\n",
       "      <td>0.381169</td>\n",
       "      <td>0.378440</td>\n",
       "      <td>0.346538</td>\n",
       "      <td>0.548679</td>\n",
       "      <td>0.702782</td>\n",
       "      <td>0.698585</td>\n",
       "      <td>1.000000</td>\n",
       "    </tr>\n",
       "  </tbody>\n",
       "</table>\n",
       "</div>"
      ],
      "text/plain": [
       "                                          Transaction date  House Age  \\\n",
       "Transaction date                                  1.000000   0.017542   \n",
       "House Age                                         0.017542   1.000000   \n",
       "Distance from nearest Metro station (km)          0.060880   0.025622   \n",
       "Number of convenience stores                      0.009544   0.049593   \n",
       "latitude                                          0.035016   0.054420   \n",
       "longitude                                        -0.041065  -0.048520   \n",
       "Number of bedrooms                                0.061985  -0.008756   \n",
       "House size (sqft)                                 0.068405  -0.060361   \n",
       "House price of unit area                          0.087529  -0.210567   \n",
       "Price                                             0.119059  -0.198741   \n",
       "\n",
       "                                          Distance from nearest Metro station (km)  \\\n",
       "Transaction date                                                          0.060880   \n",
       "House Age                                                                 0.025622   \n",
       "Distance from nearest Metro station (km)                                  1.000000   \n",
       "Number of convenience stores                                             -0.602519   \n",
       "latitude                                                                 -0.591067   \n",
       "longitude                                                                -0.806317   \n",
       "Number of bedrooms                                                       -0.046856   \n",
       "House size (sqft)                                                         0.001795   \n",
       "House price of unit area                                                 -0.673613   \n",
       "Price                                                                    -0.441094   \n",
       "\n",
       "                                          Number of convenience stores  \\\n",
       "Transaction date                                              0.009544   \n",
       "House Age                                                     0.049593   \n",
       "Distance from nearest Metro station (km)                     -0.602519   \n",
       "Number of convenience stores                                  1.000000   \n",
       "latitude                                                      0.444143   \n",
       "longitude                                                     0.449099   \n",
       "Number of bedrooms                                            0.043638   \n",
       "House size (sqft)                                             0.033286   \n",
       "House price of unit area                                      0.571005   \n",
       "Price                                                         0.381169   \n",
       "\n",
       "                                          latitude  longitude  \\\n",
       "Transaction date                          0.035016  -0.041065   \n",
       "House Age                                 0.054420  -0.048520   \n",
       "Distance from nearest Metro station (km) -0.591067  -0.806317   \n",
       "Number of convenience stores              0.444143   0.449099   \n",
       "latitude                                  1.000000   0.412924   \n",
       "longitude                                 0.412924   1.000000   \n",
       "Number of bedrooms                        0.043921   0.041680   \n",
       "House size (sqft)                         0.031696   0.009322   \n",
       "House price of unit area                  0.546307   0.523287   \n",
       "Price                                     0.378440   0.346538   \n",
       "\n",
       "                                          Number of bedrooms  \\\n",
       "Transaction date                                    0.061985   \n",
       "House Age                                          -0.008756   \n",
       "Distance from nearest Metro station (km)           -0.046856   \n",
       "Number of convenience stores                        0.043638   \n",
       "latitude                                            0.043921   \n",
       "longitude                                           0.041680   \n",
       "Number of bedrooms                                  1.000000   \n",
       "House size (sqft)                                   0.752276   \n",
       "House price of unit area                            0.050265   \n",
       "Price                                               0.548679   \n",
       "\n",
       "                                          House size (sqft)  \\\n",
       "Transaction date                                   0.068405   \n",
       "House Age                                         -0.060361   \n",
       "Distance from nearest Metro station (km)           0.001795   \n",
       "Number of convenience stores                       0.033286   \n",
       "latitude                                           0.031696   \n",
       "longitude                                          0.009322   \n",
       "Number of bedrooms                                 0.752276   \n",
       "House size (sqft)                                  1.000000   \n",
       "House price of unit area                           0.046489   \n",
       "Price                                              0.702782   \n",
       "\n",
       "                                          House price of unit area     Price  \n",
       "Transaction date                                          0.087529  0.119059  \n",
       "House Age                                                -0.210567 -0.198741  \n",
       "Distance from nearest Metro station (km)                 -0.673613 -0.441094  \n",
       "Number of convenience stores                              0.571005  0.381169  \n",
       "latitude                                                  0.546307  0.378440  \n",
       "longitude                                                 0.523287  0.346538  \n",
       "Number of bedrooms                                        0.050265  0.548679  \n",
       "House size (sqft)                                         0.046489  0.702782  \n",
       "House price of unit area                                  1.000000  0.698585  \n",
       "Price                                                     0.698585  1.000000  "
      ]
     },
     "execution_count": 19,
     "metadata": {},
     "output_type": "execute_result"
    }
   ],
   "source": [
    "df.corr(method='pearson') #observing the correlation between the variables. "
   ]
  },
  {
   "cell_type": "code",
   "execution_count": 20,
   "id": "ab409fa6",
   "metadata": {},
   "outputs": [],
   "source": [
    "df=df.drop(['Transaction date'], axis=1) #since I won't be needing the column"
   ]
  },
  {
   "cell_type": "markdown",
   "id": "21f11846",
   "metadata": {},
   "source": [
    "There seem to be traces of multicollinearity between some of the independent variables such as longitude and latitude, House size, House price of unit area and Number of bedrooms. This poses as a problem because we might not be able too see the individual effect of each variable since increase in one leads to increase in another."
   ]
  },
  {
   "cell_type": "code",
   "execution_count": 21,
   "id": "748ec95b",
   "metadata": {},
   "outputs": [
    {
     "name": "stdout",
     "output_type": "stream",
     "text": [
      "                                    feature        VIF\n",
      "0                                 House Age       3.90\n",
      "1  Distance from nearest Metro station (km)       3.77\n",
      "2              Number of convenience stores       5.17\n",
      "3                                  latitude 6324254.90\n",
      "4                                 longitude 6317541.04\n",
      "5                        Number of bedrooms      16.07\n",
      "6                         House size (sqft)      19.04\n",
      "7                  House price of unit area      20.53\n"
     ]
    }
   ],
   "source": [
    "\"\"\" Calculating Variable Inflation Feature to expose multicollinearity. VIF between 1-5 is safe but anything higher is taken\n",
    "as threat\"\"\"\n",
    "X=df.drop(['Price'],axis=1)\n",
    "vif_data = pd.DataFrame()\n",
    "vif_data[\"feature\"] = X.columns\n",
    "  \n",
    "# calculating VIF for each feature\n",
    "vif_data[\"VIF\"] = [variance_inflation_factor(X.values, i)\n",
    "                          for i in range(len(X.columns))]\n",
    "pd.options.display.float_format = '{:.2f}'.format  \n",
    "print(vif_data)"
   ]
  },
  {
   "cell_type": "markdown",
   "id": "01d11738",
   "metadata": {},
   "source": [
    "The suspected variables are indeed correlated. Latitude, longitude, Number of bedrooms, House price of unit area and House size have high VIF each. This will result to dropping one of each groups including the Transaction date (which isn't useful for my prediction). Since that will lead to decrease in feature which may be or may not be adding information to the model, I'll create another dataframe without those columns and keep the old one. "
   ]
  },
  {
   "cell_type": "code",
   "execution_count": 22,
   "id": "1095ba67",
   "metadata": {},
   "outputs": [],
   "source": [
    "#dropping one of each of the correlated colummns and House price of unit area since I don't need it anymore\n",
    "df_new=df.drop(['latitude','Number of bedrooms','House price of unit area'],axis=1)"
   ]
  },
  {
   "cell_type": "code",
   "execution_count": 23,
   "id": "2275d7a3",
   "metadata": {},
   "outputs": [
    {
     "data": {
      "text/html": [
       "<div>\n",
       "<style scoped>\n",
       "    .dataframe tbody tr th:only-of-type {\n",
       "        vertical-align: middle;\n",
       "    }\n",
       "\n",
       "    .dataframe tbody tr th {\n",
       "        vertical-align: top;\n",
       "    }\n",
       "\n",
       "    .dataframe thead th {\n",
       "        text-align: right;\n",
       "    }\n",
       "</style>\n",
       "<table border=\"1\" class=\"dataframe\">\n",
       "  <thead>\n",
       "    <tr style=\"text-align: right;\">\n",
       "      <th></th>\n",
       "      <th>House Age</th>\n",
       "      <th>Distance from nearest Metro station (km)</th>\n",
       "      <th>Number of convenience stores</th>\n",
       "      <th>longitude</th>\n",
       "      <th>House size (sqft)</th>\n",
       "      <th>Price</th>\n",
       "    </tr>\n",
       "  </thead>\n",
       "  <tbody>\n",
       "    <tr>\n",
       "      <th>0</th>\n",
       "      <td>32.00</td>\n",
       "      <td>84.88</td>\n",
       "      <td>10</td>\n",
       "      <td>121.54</td>\n",
       "      <td>575</td>\n",
       "      <td>21792.50</td>\n",
       "    </tr>\n",
       "    <tr>\n",
       "      <th>1</th>\n",
       "      <td>19.50</td>\n",
       "      <td>306.59</td>\n",
       "      <td>9</td>\n",
       "      <td>121.54</td>\n",
       "      <td>1240</td>\n",
       "      <td>52328.00</td>\n",
       "    </tr>\n",
       "    <tr>\n",
       "      <th>2</th>\n",
       "      <td>13.30</td>\n",
       "      <td>561.98</td>\n",
       "      <td>5</td>\n",
       "      <td>121.54</td>\n",
       "      <td>1060</td>\n",
       "      <td>50138.00</td>\n",
       "    </tr>\n",
       "    <tr>\n",
       "      <th>3</th>\n",
       "      <td>13.30</td>\n",
       "      <td>561.98</td>\n",
       "      <td>5</td>\n",
       "      <td>121.54</td>\n",
       "      <td>875</td>\n",
       "      <td>47950.00</td>\n",
       "    </tr>\n",
       "    <tr>\n",
       "      <th>4</th>\n",
       "      <td>5.00</td>\n",
       "      <td>390.57</td>\n",
       "      <td>5</td>\n",
       "      <td>121.54</td>\n",
       "      <td>491</td>\n",
       "      <td>21162.10</td>\n",
       "    </tr>\n",
       "    <tr>\n",
       "      <th>...</th>\n",
       "      <td>...</td>\n",
       "      <td>...</td>\n",
       "      <td>...</td>\n",
       "      <td>...</td>\n",
       "      <td>...</td>\n",
       "      <td>...</td>\n",
       "    </tr>\n",
       "    <tr>\n",
       "      <th>409</th>\n",
       "      <td>13.70</td>\n",
       "      <td>4082.01</td>\n",
       "      <td>0</td>\n",
       "      <td>121.50</td>\n",
       "      <td>803</td>\n",
       "      <td>12366.20</td>\n",
       "    </tr>\n",
       "    <tr>\n",
       "      <th>410</th>\n",
       "      <td>5.60</td>\n",
       "      <td>90.46</td>\n",
       "      <td>9</td>\n",
       "      <td>121.54</td>\n",
       "      <td>1278</td>\n",
       "      <td>63900.00</td>\n",
       "    </tr>\n",
       "    <tr>\n",
       "      <th>411</th>\n",
       "      <td>18.80</td>\n",
       "      <td>390.97</td>\n",
       "      <td>7</td>\n",
       "      <td>121.54</td>\n",
       "      <td>503</td>\n",
       "      <td>20421.80</td>\n",
       "    </tr>\n",
       "    <tr>\n",
       "      <th>412</th>\n",
       "      <td>8.10</td>\n",
       "      <td>104.81</td>\n",
       "      <td>5</td>\n",
       "      <td>121.54</td>\n",
       "      <td>597</td>\n",
       "      <td>31342.50</td>\n",
       "    </tr>\n",
       "    <tr>\n",
       "      <th>413</th>\n",
       "      <td>6.50</td>\n",
       "      <td>90.46</td>\n",
       "      <td>9</td>\n",
       "      <td>121.54</td>\n",
       "      <td>1097</td>\n",
       "      <td>70098.30</td>\n",
       "    </tr>\n",
       "  </tbody>\n",
       "</table>\n",
       "<p>414 rows × 6 columns</p>\n",
       "</div>"
      ],
      "text/plain": [
       "     House Age  Distance from nearest Metro station (km)  \\\n",
       "0        32.00                                     84.88   \n",
       "1        19.50                                    306.59   \n",
       "2        13.30                                    561.98   \n",
       "3        13.30                                    561.98   \n",
       "4         5.00                                    390.57   \n",
       "..         ...                                       ...   \n",
       "409      13.70                                   4082.01   \n",
       "410       5.60                                     90.46   \n",
       "411      18.80                                    390.97   \n",
       "412       8.10                                    104.81   \n",
       "413       6.50                                     90.46   \n",
       "\n",
       "     Number of convenience stores  longitude  House size (sqft)    Price  \n",
       "0                              10     121.54                575 21792.50  \n",
       "1                               9     121.54               1240 52328.00  \n",
       "2                               5     121.54               1060 50138.00  \n",
       "3                               5     121.54                875 47950.00  \n",
       "4                               5     121.54                491 21162.10  \n",
       "..                            ...        ...                ...      ...  \n",
       "409                             0     121.50                803 12366.20  \n",
       "410                             9     121.54               1278 63900.00  \n",
       "411                             7     121.54                503 20421.80  \n",
       "412                             5     121.54                597 31342.50  \n",
       "413                             9     121.54               1097 70098.30  \n",
       "\n",
       "[414 rows x 6 columns]"
      ]
     },
     "execution_count": 23,
     "metadata": {},
     "output_type": "execute_result"
    }
   ],
   "source": [
    "df_new"
   ]
  },
  {
   "cell_type": "code",
   "execution_count": 24,
   "id": "fdb0a309",
   "metadata": {},
   "outputs": [],
   "source": [
    "#creating my X_correlated and y_correlated variables with DataFrame that has all correlated columns\n",
    "X_correlated=df.drop(['Price'],axis=1)\n",
    "y_correlated=df['Price']"
   ]
  },
  {
   "cell_type": "code",
   "execution_count": 25,
   "id": "5b6d12e6",
   "metadata": {},
   "outputs": [],
   "source": [
    "#creating X and y varaibles with DataFrame that has selected columns \n",
    "X=df_new.drop(['Price'],axis=1)\n",
    "y=df_new['Price']"
   ]
  },
  {
   "cell_type": "code",
   "execution_count": 26,
   "id": "c70a0abd",
   "metadata": {},
   "outputs": [],
   "source": [
    "X_trainc, X_testc, y_trainc, y_testc = train_test_split( X_correlated, y_correlated, train_size = 0.7, test_size = 0.3, random_state = 100 )"
   ]
  },
  {
   "cell_type": "code",
   "execution_count": 27,
   "id": "e62a9b4d",
   "metadata": {},
   "outputs": [],
   "source": [
    "X_train, X_test, y_train, y_test = train_test_split( X, y, train_size = 0.7, test_size = 0.3, random_state = 100 )"
   ]
  },
  {
   "cell_type": "code",
   "execution_count": 28,
   "id": "81434867",
   "metadata": {},
   "outputs": [],
   "source": [
    "#scaling the X variables since they are all on different scales\n",
    "sc=StandardScaler()\n",
    "X_train_scaled = sc.fit_transform(X_train)\n",
    "X_test_scaled = sc.fit_transform(X_test)\n",
    "X_trainc_scaled = sc.fit_transform(X_trainc)\n",
    "X_testc_scaled = sc.fit_transform(X_testc)"
   ]
  },
  {
   "cell_type": "code",
   "execution_count": 29,
   "id": "2161558f",
   "metadata": {},
   "outputs": [],
   "source": [
    "def regression_model(model,correlated=True):\n",
    "    \"\"\"\n",
    "    \n",
    "    This function calculates a cross-validation of the model specified\n",
    "    \n",
    "    model: A regression model\n",
    "    \n",
    "    correlated: boolean\n",
    "    \n",
    "    if True:\n",
    "    The variables used are from the dataframe in which VIF has been taken into consideration to curb multicollinearity\n",
    "    if False:\n",
    "    The variables used are from the normal dataframe\n",
    "    \n",
    "    returns:\n",
    "    --------\n",
    "    A list\n",
    "    The list consist of RMSE value of training set, RMSE value of test set and The R2 score of the model.\n",
    "    \n",
    "    \"\"\"\n",
    "    cv = KFold(n_splits=10, shuffle=True, random_state=42)\n",
    "    if correlated:\n",
    "        regression = model.fit(X_trainc_scaled,y_trainc)\n",
    "        score_train = -1 * cross_val_score(regression, X_trainc_scaled, y_trainc, cv=cv, scoring='neg_root_mean_squared_error').mean()\n",
    "        score_test = mean_squared_error(y_testc, regression.predict(X_testc_scaled), squared=False)\n",
    "        r2score = r2_score(y_testc, regression.predict(X_testc_scaled))\n",
    "        return [score_train,score_test,r2score]\n",
    "    else:\n",
    "        regression = model.fit(X_train_scaled, y_train)\n",
    "        score_train = -1 * cross_val_score(regression, X_train_scaled, y_train, cv=cv, scoring='neg_root_mean_squared_error').mean()\n",
    "        score_test = mean_squared_error(y_test, regression.predict(X_test_scaled), squared=False)\n",
    "        r2score = r2_score(y_test, regression.predict(X_test_scaled))\n",
    "        return [score_train,score_test,r2score]"
   ]
  },
  {
   "cell_type": "code",
   "execution_count": 30,
   "id": "85ae515c",
   "metadata": {},
   "outputs": [],
   "source": [
    "# Models with DataFrame that are correlated\n",
    "LR = regression_model(LinearRegression())\n",
    "LCV = regression_model(LassoCV())\n",
    "RCV = regression_model(RidgeCV())\n",
    "RF = regression_model(RandomForestRegressor())\n",
    "\n",
    "# Models with DataFrame with reduced multicollinearity \n",
    "LR_ = regression_model(LinearRegression(),correlated=False)\n",
    "LCV_ = regression_model(LassoCV(),correlated=False)\n",
    "RCV_= regression_model(RidgeCV(),correlated=False)\n",
    "RF_ = regression_model(RandomForestRegressor(),correlated=False)"
   ]
  },
  {
   "cell_type": "markdown",
   "id": "4149b523",
   "metadata": {},
   "source": [
    "Before evaluation, another method that can help with multicollinearity will be Principal component analysis and Partial least squares. So I'll be exploring these options and then evaluate with the metrics of the models above"
   ]
  },
  {
   "cell_type": "code",
   "execution_count": 31,
   "id": "5edac839",
   "metadata": {},
   "outputs": [
    {
     "data": {
      "text/html": [
       "<div>\n",
       "<style scoped>\n",
       "    .dataframe tbody tr th:only-of-type {\n",
       "        vertical-align: middle;\n",
       "    }\n",
       "\n",
       "    .dataframe tbody tr th {\n",
       "        vertical-align: top;\n",
       "    }\n",
       "\n",
       "    .dataframe thead th {\n",
       "        text-align: right;\n",
       "    }\n",
       "</style>\n",
       "<table border=\"1\" class=\"dataframe\">\n",
       "  <thead>\n",
       "    <tr style=\"text-align: right;\">\n",
       "      <th></th>\n",
       "      <th>0</th>\n",
       "      <th>1</th>\n",
       "      <th>2</th>\n",
       "      <th>3</th>\n",
       "      <th>4</th>\n",
       "      <th>5</th>\n",
       "      <th>6</th>\n",
       "      <th>7</th>\n",
       "    </tr>\n",
       "  </thead>\n",
       "  <tbody>\n",
       "    <tr>\n",
       "      <th>0</th>\n",
       "      <td>0.05</td>\n",
       "      <td>0.09</td>\n",
       "      <td>0.94</td>\n",
       "      <td>-0.07</td>\n",
       "      <td>0.04</td>\n",
       "      <td>0.31</td>\n",
       "      <td>0.05</td>\n",
       "      <td>0.04</td>\n",
       "    </tr>\n",
       "    <tr>\n",
       "      <th>1</th>\n",
       "      <td>0.51</td>\n",
       "      <td>-0.05</td>\n",
       "      <td>-0.04</td>\n",
       "      <td>0.29</td>\n",
       "      <td>-0.14</td>\n",
       "      <td>0.01</td>\n",
       "      <td>0.02</td>\n",
       "      <td>0.80</td>\n",
       "    </tr>\n",
       "    <tr>\n",
       "      <th>2</th>\n",
       "      <td>-0.41</td>\n",
       "      <td>0.04</td>\n",
       "      <td>0.19</td>\n",
       "      <td>0.15</td>\n",
       "      <td>-0.77</td>\n",
       "      <td>-0.41</td>\n",
       "      <td>-0.02</td>\n",
       "      <td>0.09</td>\n",
       "    </tr>\n",
       "    <tr>\n",
       "      <th>3</th>\n",
       "      <td>-0.40</td>\n",
       "      <td>0.01</td>\n",
       "      <td>0.14</td>\n",
       "      <td>0.63</td>\n",
       "      <td>0.55</td>\n",
       "      <td>-0.32</td>\n",
       "      <td>0.02</td>\n",
       "      <td>0.14</td>\n",
       "    </tr>\n",
       "    <tr>\n",
       "      <th>4</th>\n",
       "      <td>-0.45</td>\n",
       "      <td>0.04</td>\n",
       "      <td>-0.03</td>\n",
       "      <td>-0.65</td>\n",
       "      <td>0.22</td>\n",
       "      <td>-0.09</td>\n",
       "      <td>0.03</td>\n",
       "      <td>0.56</td>\n",
       "    </tr>\n",
       "  </tbody>\n",
       "</table>\n",
       "</div>"
      ],
      "text/plain": [
       "      0     1     2     3     4     5     6    7\n",
       "0  0.05  0.09  0.94 -0.07  0.04  0.31  0.05 0.04\n",
       "1  0.51 -0.05 -0.04  0.29 -0.14  0.01  0.02 0.80\n",
       "2 -0.41  0.04  0.19  0.15 -0.77 -0.41 -0.02 0.09\n",
       "3 -0.40  0.01  0.14  0.63  0.55 -0.32  0.02 0.14\n",
       "4 -0.45  0.04 -0.03 -0.65  0.22 -0.09  0.03 0.56"
      ]
     },
     "execution_count": 31,
     "metadata": {},
     "output_type": "execute_result"
    }
   ],
   "source": [
    "# Generate all the principal components\n",
    "pca = PCA() # Default n_components = min(n_samples, n_features)\n",
    "X_train_pc = pca.fit_transform(X_trainc_scaled)\n",
    "\n",
    "# View first 5 rows of all principal components\n",
    "pd.DataFrame(pca.components_.T).loc[:4,:]"
   ]
  },
  {
   "cell_type": "code",
   "execution_count": 32,
   "id": "a2eceb81",
   "metadata": {},
   "outputs": [
    {
     "data": {
      "text/plain": [
       "array([0.40842028, 0.21973793, 0.13311552, 0.07759474, 0.0698711 ,\n",
       "       0.04441368, 0.02987084, 0.0169759 ])"
      ]
     },
     "execution_count": 32,
     "metadata": {},
     "output_type": "execute_result"
    }
   ],
   "source": [
    "pca.explained_variance_ratio_"
   ]
  },
  {
   "cell_type": "code",
   "execution_count": 33,
   "id": "b9d604f0",
   "metadata": {},
   "outputs": [
    {
     "data": {
      "text/html": [
       "<div>\n",
       "<style scoped>\n",
       "    .dataframe tbody tr th:only-of-type {\n",
       "        vertical-align: middle;\n",
       "    }\n",
       "\n",
       "    .dataframe tbody tr th {\n",
       "        vertical-align: top;\n",
       "    }\n",
       "\n",
       "    .dataframe thead th {\n",
       "        text-align: right;\n",
       "    }\n",
       "</style>\n",
       "<table border=\"1\" class=\"dataframe\">\n",
       "  <thead>\n",
       "    <tr style=\"text-align: right;\">\n",
       "      <th></th>\n",
       "      <th>0</th>\n",
       "      <th>1</th>\n",
       "    </tr>\n",
       "  </thead>\n",
       "  <tbody>\n",
       "    <tr>\n",
       "      <th>0</th>\n",
       "      <td>PC0</td>\n",
       "      <td>Distance from nearest Metro station (km)</td>\n",
       "    </tr>\n",
       "    <tr>\n",
       "      <th>1</th>\n",
       "      <td>PC1</td>\n",
       "      <td>House size (sqft)</td>\n",
       "    </tr>\n",
       "    <tr>\n",
       "      <th>2</th>\n",
       "      <td>PC2</td>\n",
       "      <td>House Age</td>\n",
       "    </tr>\n",
       "    <tr>\n",
       "      <th>3</th>\n",
       "      <td>PC3</td>\n",
       "      <td>House price of unit area</td>\n",
       "    </tr>\n",
       "    <tr>\n",
       "      <th>4</th>\n",
       "      <td>PC4</td>\n",
       "      <td>Number of convenience stores</td>\n",
       "    </tr>\n",
       "  </tbody>\n",
       "</table>\n",
       "</div>"
      ],
      "text/plain": [
       "     0                                         1\n",
       "0  PC0  Distance from nearest Metro station (km)\n",
       "1  PC1                         House size (sqft)\n",
       "2  PC2                                 House Age\n",
       "3  PC3                  House price of unit area\n",
       "4  PC4              Number of convenience stores"
      ]
     },
     "execution_count": 33,
     "metadata": {},
     "output_type": "execute_result"
    }
   ],
   "source": [
    "#observing columns with the most variance according to PCA\n",
    "model = PCA(n_components=5)\n",
    "X_pc = model.fit_transform(X_trainc)\n",
    "\n",
    "# number of components\n",
    "n_pcs= model.components_.shape[0]\n",
    "\n",
    "# get the index of the most important feature on EACH component\n",
    "# LIST COMPREHENSION HERE\n",
    "most_important = [np.abs(model.components_[i]).argmax() for i in range(n_pcs)]\n",
    "\n",
    "# get the names\n",
    "most_important_names = [X_trainc.columns[most_important[i]] for i in range(n_pcs)]\n",
    "\n",
    "# LIST COMPREHENSION HERE AGAIN\n",
    "dic = {'PC{}'.format(i): most_important_names[i] for i in range(n_pcs)}\n",
    "\n",
    "# build the dataframe\n",
    "df_ = pd.DataFrame(dic.items())\n",
    "df_"
   ]
  },
  {
   "cell_type": "markdown",
   "id": "b458e08b",
   "metadata": {},
   "source": [
    "The dataframe above shows that 'Distance from the nearest Metro station (km)' has the most variance according to PCA follow by 'House size' and so on. "
   ]
  },
  {
   "cell_type": "code",
   "execution_count": 34,
   "id": "9ce0054c",
   "metadata": {
    "scrolled": true
   },
   "outputs": [
    {
     "data": {
      "text/plain": [
       "<matplotlib.lines.Line2D at 0x1af6bfdc250>"
      ]
     },
     "execution_count": 34,
     "metadata": {},
     "output_type": "execute_result"
    },
    {
     "data": {
      "image/png": "[encoded data removed]",
      "text/plain": [
       "<Figure size 432x288 with 1 Axes>"
      ]
     },
     "metadata": {
      "needs_background": "light"
     },
     "output_type": "display_data"
    }
   ],
   "source": [
    "#Visualizing the Principal components to pick the most suitable number of component\n",
    "cv = KFold(n_splits=10, shuffle=True, random_state=42)\n",
    "# Initialize linear regression instance\n",
    "lin_reg = LinearRegression()\n",
    "\n",
    "# Create empty list to store RMSE for each iteration\n",
    "rmse_list = []\n",
    "\n",
    "# Loop through different count of principal components for linear regression\n",
    "for i in range(1, X_train_pc.shape[1]+1):\n",
    "    rmse_score = -1 * cross_val_score(lin_reg, \n",
    "                                      X_train_pc[:,:i], # Use first k principal components\n",
    "                                      y_trainc, \n",
    "                                      cv=cv, \n",
    "                                      scoring='neg_root_mean_squared_error').mean()\n",
    "    rmse_list.append(rmse_score)\n",
    "# Visual analysis - plot RMSE vs count of principal components used\n",
    "plt.plot(rmse_list, '-o')\n",
    "plt.xlabel('Number of principal components in regression')\n",
    "plt.ylabel('RMSE')\n",
    "plt.title('Quality')\n",
    "plt.xlim(xmin=-1);\n",
    "plt.xticks(np.arange(X_train_pc.shape[1]), np.arange(1, X_train_pc.shape[1]+1))\n",
    "plt.axhline(y=LR[0], color='g', linestyle='-')"
   ]
  },
  {
   "cell_type": "markdown",
   "id": "8e32d15b",
   "metadata": {},
   "source": [
    "It shows, having 7 features is similar to having 8 as the RMSE remains constant for the model. Now I will perform PCA for the exact number of component. "
   ]
  },
  {
   "cell_type": "code",
   "execution_count": 35,
   "id": "0db97022",
   "metadata": {},
   "outputs": [],
   "source": [
    "best_pc_num = 7\n",
    "\n",
    "# Train model with first 7 principal components\n",
    "lin_reg_pc = LinearRegression().fit(X_train_pc[:,:best_pc_num], y_trainc)\n",
    "\n",
    "# Get cross-validation RMSE (train set)\n",
    "pcr_score_train = -1 * cross_val_score(lin_reg_pc, \n",
    "                                       X_train_pc[:,:best_pc_num], \n",
    "                                       y_trainc, \n",
    "                                       cv=cv, \n",
    "                                       scoring='neg_root_mean_squared_error').mean()\n",
    "\n",
    "# Train model on training set\n",
    "lin_reg_pc = LinearRegression().fit(X_train_pc[:,:best_pc_num], y_trainc)\n",
    "\n",
    "# Get first 7 principal components of test set\n",
    "X_test_pc = pca.transform(X_testc_scaled)[:,:best_pc_num]\n",
    "\n",
    "# Predict on test data\n",
    "preds = lin_reg_pc.predict(X_test_pc)\n",
    "pcr_score_test = mean_squared_error(y_testc, preds, squared=False)\n",
    "pcr_r2score = r2_score(y_testc, lin_reg_pc.predict(X_test_pc))"
   ]
  },
  {
   "cell_type": "code",
   "execution_count": 36,
   "id": "85c7f3bf",
   "metadata": {},
   "outputs": [
    {
     "data": {
      "text/plain": [
       "Text(0.5, 1.0, 'hp')"
      ]
     },
     "execution_count": 36,
     "metadata": {},
     "output_type": "execute_result"
    },
    {
     "data": {
      "image/png": "[encoded data removed]",
      "text/plain": [
       "<Figure size 432x288 with 1 Axes>"
      ]
     },
     "metadata": {
      "needs_background": "light"
     },
     "output_type": "display_data"
    }
   ],
   "source": [
    "#Partial least squares\n",
    "rmse_list=[]\n",
    "for i in range(1, X_trainc_scaled.shape[1]+1):\n",
    "    pls = PLSRegression(n_components=i)\n",
    "    rmse_score = -1 * cross_val_score(pls, \n",
    "                                      X_trainc_scaled[:,:i],\n",
    "                                      y_trainc, \n",
    "                                      cv=cv, \n",
    "                                      scoring='neg_root_mean_squared_error').mean()\n",
    "    rmse_list.append(rmse_score)\n",
    "\n",
    "#plot test MSE vs. number of components\n",
    "plt.plot(rmse_list)\n",
    "plt.xlabel('Number of PLS Components')\n",
    "plt.ylabel('MSE')\n",
    "plt.title('hp')"
   ]
  },
  {
   "cell_type": "markdown",
   "id": "bbe93159",
   "metadata": {},
   "source": [
    "The above shows that the RMSE kept decreasing with an increase in the components. Using all 7 components wouldn't be such a bad idea afterall and judging by this, there is possibility that more features can improve the model but I'll save the conclusion till the evaluation stage. "
   ]
  },
  {
   "cell_type": "code",
   "execution_count": 37,
   "id": "7d8c69f0",
   "metadata": {},
   "outputs": [],
   "source": [
    "#USing all 7 components for PLS method\n",
    "PLS=regression_model(PLSRegression(n_components=7))"
   ]
  },
  {
   "cell_type": "markdown",
   "id": "efbc951e",
   "metadata": {},
   "source": [
    "Now with all models done, I will create a dataframe with every of the results. "
   ]
  },
  {
   "cell_type": "code",
   "execution_count": 38,
   "id": "b047c788",
   "metadata": {},
   "outputs": [],
   "source": [
    "final_df = pd.DataFrame()\n",
    "\n",
    "final_df[\"Models\"] = ['Linear Regression(correlated)','Linear Regression (VIF)','Lasso Regression (correlated)',\n",
    "                      'Lasso Regression (VIF)','Ridge Regression (correlated)', 'Ridge Regression (VIF)',\n",
    "                      'Random Forest Regression (VIF)', 'Random Forest Regression (correlated)','Principal Component Regression(7 components)','Partial Least Squares']\n",
    "final_df[\"RMSE(Train Set)\"] = [LR[0],LR_[0],LCV[0],LCV_[0],RCV[0],\n",
    "                               RCV_[0],RF_[0],RF[0],pcr_score_train,PLS[0]]\n",
    "final_df[\"RMSE(Test Set)\"] = [LR[1],LR_[1],LCV[1],LCV_[1],RCV[1],\n",
    "                               RCV_[1],RF_[1],RF[1],pcr_score_test,PLS[1]]\n",
    "final_df[\"R2 Score\"] = [LR[2],LR_[2],LCV[2],LCV_[2],RCV[2],\n",
    "                               RCV_[2],RF_[2],RF[2],pcr_r2score,PLS[2]]"
   ]
  },
  {
   "cell_type": "code",
   "execution_count": 39,
   "id": "c12775cf",
   "metadata": {},
   "outputs": [
    {
     "data": {
      "text/html": [
       "<div>\n",
       "<style scoped>\n",
       "    .dataframe tbody tr th:only-of-type {\n",
       "        vertical-align: middle;\n",
       "    }\n",
       "\n",
       "    .dataframe tbody tr th {\n",
       "        vertical-align: top;\n",
       "    }\n",
       "\n",
       "    .dataframe thead th {\n",
       "        text-align: right;\n",
       "    }\n",
       "</style>\n",
       "<table border=\"1\" class=\"dataframe\">\n",
       "  <thead>\n",
       "    <tr style=\"text-align: right;\">\n",
       "      <th></th>\n",
       "      <th>Models</th>\n",
       "      <th>RMSE(Train Set)</th>\n",
       "      <th>RMSE(Test Set)</th>\n",
       "      <th>R2 Score</th>\n",
       "    </tr>\n",
       "  </thead>\n",
       "  <tbody>\n",
       "    <tr>\n",
       "      <th>0</th>\n",
       "      <td>Linear Regression(correlated)</td>\n",
       "      <td>5250.20</td>\n",
       "      <td>4989.36</td>\n",
       "      <td>0.93</td>\n",
       "    </tr>\n",
       "    <tr>\n",
       "      <th>1</th>\n",
       "      <td>Linear Regression (VIF)</td>\n",
       "      <td>10536.08</td>\n",
       "      <td>8295.84</td>\n",
       "      <td>0.81</td>\n",
       "    </tr>\n",
       "    <tr>\n",
       "      <th>2</th>\n",
       "      <td>Lasso Regression (correlated)</td>\n",
       "      <td>5150.57</td>\n",
       "      <td>4898.22</td>\n",
       "      <td>0.93</td>\n",
       "    </tr>\n",
       "    <tr>\n",
       "      <th>3</th>\n",
       "      <td>Lasso Regression (VIF)</td>\n",
       "      <td>10503.77</td>\n",
       "      <td>8256.99</td>\n",
       "      <td>0.81</td>\n",
       "    </tr>\n",
       "    <tr>\n",
       "      <th>4</th>\n",
       "      <td>Ridge Regression (correlated)</td>\n",
       "      <td>5265.52</td>\n",
       "      <td>4986.31</td>\n",
       "      <td>0.93</td>\n",
       "    </tr>\n",
       "    <tr>\n",
       "      <th>5</th>\n",
       "      <td>Ridge Regression (VIF)</td>\n",
       "      <td>10529.79</td>\n",
       "      <td>8291.07</td>\n",
       "      <td>0.81</td>\n",
       "    </tr>\n",
       "    <tr>\n",
       "      <th>6</th>\n",
       "      <td>Random Forest Regression (VIF)</td>\n",
       "      <td>9568.53</td>\n",
       "      <td>7987.91</td>\n",
       "      <td>0.83</td>\n",
       "    </tr>\n",
       "    <tr>\n",
       "      <th>7</th>\n",
       "      <td>Random Forest Regression (correlated)</td>\n",
       "      <td>3657.82</td>\n",
       "      <td>3234.30</td>\n",
       "      <td>0.97</td>\n",
       "    </tr>\n",
       "    <tr>\n",
       "      <th>8</th>\n",
       "      <td>Principal Component Regression(7 components)</td>\n",
       "      <td>5251.83</td>\n",
       "      <td>5016.48</td>\n",
       "      <td>0.93</td>\n",
       "    </tr>\n",
       "    <tr>\n",
       "      <th>9</th>\n",
       "      <td>Partial Least Squares</td>\n",
       "      <td>5249.29</td>\n",
       "      <td>4990.62</td>\n",
       "      <td>0.93</td>\n",
       "    </tr>\n",
       "  </tbody>\n",
       "</table>\n",
       "</div>"
      ],
      "text/plain": [
       "                                         Models  RMSE(Train Set)  \\\n",
       "0                 Linear Regression(correlated)          5250.20   \n",
       "1                       Linear Regression (VIF)         10536.08   \n",
       "2                 Lasso Regression (correlated)          5150.57   \n",
       "3                        Lasso Regression (VIF)         10503.77   \n",
       "4                 Ridge Regression (correlated)          5265.52   \n",
       "5                        Ridge Regression (VIF)         10529.79   \n",
       "6                Random Forest Regression (VIF)          9568.53   \n",
       "7         Random Forest Regression (correlated)          3657.82   \n",
       "8  Principal Component Regression(7 components)          5251.83   \n",
       "9                         Partial Least Squares          5249.29   \n",
       "\n",
       "   RMSE(Test Set)  R2 Score  \n",
       "0         4989.36      0.93  \n",
       "1         8295.84      0.81  \n",
       "2         4898.22      0.93  \n",
       "3         8256.99      0.81  \n",
       "4         4986.31      0.93  \n",
       "5         8291.07      0.81  \n",
       "6         7987.91      0.83  \n",
       "7         3234.30      0.97  \n",
       "8         5016.48      0.93  \n",
       "9         4990.62      0.93  "
      ]
     },
     "execution_count": 39,
     "metadata": {},
     "output_type": "execute_result"
    }
   ],
   "source": [
    "final_df"
   ]
  },
  {
   "cell_type": "markdown",
   "id": "eac61d61",
   "metadata": {},
   "source": [
    "## In Conclusion\n",
    "The model with correlated features gave the best result possibly because even though it is correlated, every of the features are useful and adds more information during the prediction of House prices. Removing variables that has high VIF seems to make the model behave poorly. I'm guessing even though they are correlated they have noise which adds important information to the model. Finally, Using PCA did seem to give an average result. It's not as good as using all the features (remember PCA decorrelates too) but it did way better than VIF. PLS did a little better than PCA and proved a better approach than PCA. In conclusion, the best model is the Random Forest Regression model with all features included. It has the highest R2 score and the lowest RMSE which is an impressive score. "
   ]
  },
  {
   "cell_type": "markdown",
   "id": "0648f21e",
   "metadata": {},
   "source": [
    "Even though linear regression was selected because of it's simplicity, it assumes a linear relationship among the variables which can be a con, hence Random Forest Regressor was adopted. The Random Forest tend to overfit but with the above result, there isn't any trace of overfitting. The PCA and PLS algorithms are used to take advantage of the multicollinearity. The VIF was used to remove collinearity totally. Ridge and Lasso Regression were used for regularization advantages in case of overfitting. According to this analysis and evaluation, I will recommend Random Forest Regressor because it could easily learn the complex and linear relationshipss between the variable and it gave the best result. "
   ]
  }
 ],
 "metadata": {
  "kernelspec": {
   "display_name": "Python 3",
   "language": "python",
   "name": "python3"
  },
  "language_info": {
   "codemirror_mode": {
    "name": "ipython",
    "version": 3
   },
   "file_extension": ".py",
   "mimetype": "text/x-python",
   "name": "python",
   "nbconvert_exporter": "python",
   "pygments_lexer": "ipython3",
   "version": "3.8.8"
  }
 },
 "nbformat": 4,
 "nbformat_minor": 5
}
